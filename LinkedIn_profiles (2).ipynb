{
 "cells": [
  {
   "cell_type": "code",
   "execution_count": 1,
   "id": "f02c0bb0",
   "metadata": {},
   "outputs": [],
   "source": [
    "import selenium"
   ]
  },
  {
   "cell_type": "code",
   "execution_count": 2,
   "id": "6cbc6732",
   "metadata": {},
   "outputs": [],
   "source": [
    "import csv"
   ]
  },
  {
   "cell_type": "code",
   "execution_count": 3,
   "id": "cf1c84ed",
   "metadata": {},
   "outputs": [],
   "source": [
    "from selenium import webdriver\n",
    "from selenium.webdriver.common.keys import Keys"
   ]
  },
  {
   "cell_type": "code",
   "execution_count": 4,
   "id": "b4ff3549",
   "metadata": {},
   "outputs": [],
   "source": [
    "from bs4 import BeautifulSoup"
   ]
  },
  {
   "cell_type": "code",
   "execution_count": 5,
   "id": "99bea49a",
   "metadata": {},
   "outputs": [],
   "source": [
    "from selenium.webdriver.common.by import By\n",
    "from selenium.webdriver.support.ui import WebDriverWait\n",
    "from selenium.webdriver.support import expected_conditions as EC"
   ]
  },
  {
   "cell_type": "code",
   "execution_count": 6,
   "id": "2383c1a7",
   "metadata": {},
   "outputs": [],
   "source": [
    "import time"
   ]
  },
  {
   "cell_type": "code",
   "execution_count": 40,
   "id": "6614db61",
   "metadata": {},
   "outputs": [],
   "source": [
    "driver = webdriver.Chrome()\n",
    "url = 'https://www.linkedin.com/login'\n",
    "driver.get(url)\n",
    "time.sleep(2)"
   ]
  },
  {
   "cell_type": "code",
   "execution_count": 41,
   "id": "929a7e36",
   "metadata": {},
   "outputs": [],
   "source": [
    "email_field = driver.find_element(\"id\",'username')\n",
    "email_field.send_keys('tebessi.GHADA@esprit.tn')\n",
    "time.sleep(3)"
   ]
  },
  {
   "cell_type": "code",
   "execution_count": 42,
   "id": "eae70040",
   "metadata": {},
   "outputs": [],
   "source": [
    "password_field = driver.find_element(\"id\",'password')\n",
    "password_field.send_keys('123JSK1942')\n",
    "time.sleep(2)"
   ]
  },
  {
   "cell_type": "code",
   "execution_count": 43,
   "id": "36a017b8",
   "metadata": {},
   "outputs": [],
   "source": [
    "login_field = driver.find_element(\"xpath\",'//*[@id=\"organic-div\"]/form/div[3]/button')\n",
    "login_field.click()\n",
    "time.sleep(2)"
   ]
  },
  {
   "cell_type": "code",
   "execution_count": 84,
   "id": "093e0d56",
   "metadata": {},
   "outputs": [
    {
     "name": "stdout",
     "output_type": "stream",
     "text": [
      "What profile do you want to scrape? telecom engineer\n"
     ]
    }
   ],
   "source": [
    "search_field = driver.find_element(\"xpath\",'//*[@id=\"global-nav-typeahead\"]/input')\n",
    "search_query = input('What profile do you want to scrape? ')\n",
    "search_field.send_keys(search_query)\n",
    "search_field.send_keys(Keys.RETURN)"
   ]
  },
  {
   "cell_type": "code",
   "execution_count": 85,
   "id": "63aeff02",
   "metadata": {},
   "outputs": [],
   "source": [
    "showAll = driver.find_element(By.LINK_TEXT, 'Voir tous les résultats de personnes')\n",
    "showAll.click()"
   ]
  },
  {
   "cell_type": "code",
   "execution_count": 86,
   "id": "92227bb3",
   "metadata": {},
   "outputs": [],
   "source": [
    "#page_source = BeautifulSoup(driver.page_source)\n",
    "#profiles = page_source.find_all('a', class_ = 'app-aware-link')\n",
    "#print(profiles)"
   ]
  },
  {
   "cell_type": "code",
   "execution_count": 87,
   "id": "69a8d232",
   "metadata": {},
   "outputs": [],
   "source": [
    "def GetUrl():\n",
    "    page_source = BeautifulSoup(driver.page_source)\n",
    "    profiles = page_source.find_all('a', class_ = 'app-aware-link')\n",
    "    all_profiles_url = []\n",
    "    for profile in profiles:\n",
    "        profile_url = profile.get('href')\n",
    "        if profile_url.startswith('https://www.linkedin.com/in/'):\n",
    "            if profile_url not in all_profiles_url:\n",
    "                all_profiles_url.append(profile_url)\n",
    "    return all_profiles_url"
   ]
  },
  {
   "cell_type": "code",
   "execution_count": 88,
   "id": "070eb2a4",
   "metadata": {},
   "outputs": [
    {
     "name": "stdout",
     "output_type": "stream",
     "text": [
      "['https://www.linkedin.com/in/essid-bassem-79366115?miniProfileUrn=urn%3Ali%3Afs_miniProfile%3AACoAAAMfSR8B03kZ0J0azO5yE4pos0rRUG4oStk', 'https://www.linkedin.com/in/ACoAAAP9v_gBY9jL6FagYAvPhG_Kexgcm-RrVwY?miniProfileUrn=urn%3Ali%3Afs_miniProfile%3AACoAAAP9v_gBY9jL6FagYAvPhG_Kexgcm-RrVwY', 'https://www.linkedin.com/in/youness-gmar?miniProfileUrn=urn%3Ali%3Afs_miniProfile%3AACoAADDHB2cB5TlmWIjBdjUzYInnnhWX5Cz4-PE', 'https://www.linkedin.com/in/ACoAAAXwvO0BpORKvn7B6nn2m53wf9tZzBWTWaU?miniProfileUrn=urn%3Ali%3Afs_miniProfile%3AACoAAAXwvO0BpORKvn7B6nn2m53wf9tZzBWTWaU', 'https://www.linkedin.com/in/salim-mannai-251700151?miniProfileUrn=urn%3Ali%3Afs_miniProfile%3AACoAACSW5V0Bi7gFeb-fnqBDpOY8y8Zizs8lAT0', 'https://www.linkedin.com/in/ACoAAADehmgBieF03Em19rVTYL03Hl_uoeUQtB0?miniProfileUrn=urn%3Ali%3Afs_miniProfile%3AACoAAADehmgBieF03Em19rVTYL03Hl_uoeUQtB0', 'https://www.linkedin.com/in/ACoAABKXEf8B9z0zdc5dlGM_uvWuM9p6uqxM1nM?miniProfileUrn=urn%3Ali%3Afs_miniProfile%3AACoAABKXEf8B9z0zdc5dlGM_uvWuM9p6uqxM1nM', 'https://www.linkedin.com/in/mohamedrhim?miniProfileUrn=urn%3Ali%3Afs_miniProfile%3AACoAAAQpRR4BWsfNzqqUs_4Zz-4VN6_QJU3V5PU', 'https://www.linkedin.com/in/bedhief-younes?miniProfileUrn=urn%3Ali%3Afs_miniProfile%3AACoAACmAryIBqL0oZBjUFlkjH35GBSpG3_YLdVg', 'https://www.linkedin.com/in/ACoAABMasocBGlychAs6mv2vUv3Sp47QjbWBlHg?miniProfileUrn=urn%3Ali%3Afs_miniProfile%3AACoAABMasocBGlychAs6mv2vUv3Sp47QjbWBlHg', 'https://www.linkedin.com/in/oumayma-boughdiri-6885421b0?miniProfileUrn=urn%3Ali%3Afs_miniProfile%3AACoAADEzkUgB__tafuhbMA-uAoez_LPaA9vyMw8', 'https://www.linkedin.com/in/ACoAACgMuBcB2CpZaGbNawRnXPd9NGmF3uQ0pc4?miniProfileUrn=urn%3Ali%3Afs_miniProfile%3AACoAACgMuBcB2CpZaGbNawRnXPd9NGmF3uQ0pc4', 'https://www.linkedin.com/in/ACoAADcRMOIBwaDYwVQFeRaV2S7ZhAH8T0IRF9Q?miniProfileUrn=urn%3Ali%3Afs_miniProfile%3AACoAADcRMOIBwaDYwVQFeRaV2S7ZhAH8T0IRF9Q', 'https://www.linkedin.com/in/hafedh-hrizi-0a2b42174?miniProfileUrn=urn%3Ali%3Afs_miniProfile%3AACoAACl1lfoBnybGgQZJCktVwbltuKKdmsw0-ng', 'https://www.linkedin.com/in/ACoAADTf5ZIBiyJWPttgR3-GOc1cKti1KkoK_88?miniProfileUrn=urn%3Ali%3Afs_miniProfile%3AACoAADTf5ZIBiyJWPttgR3-GOc1cKti1KkoK_88', 'https://www.linkedin.com/in/maryem-atitallah?miniProfileUrn=urn%3Ali%3Afs_miniProfile%3AACoAACR9v3EBGY-cvz0GOLcFu0eX91ZLzPO4wQE', 'https://www.linkedin.com/in/ahmed-gharsallah?miniProfileUrn=urn%3Ali%3Afs_miniProfile%3AACoAAC8ewloBWNSWodZXnzFTWYVLG1Dowv16lIo', 'https://www.linkedin.com/in/ACoAACrSqIkBEjsja49WahJ3fmsmHE-Q95oTXZA?miniProfileUrn=urn%3Ali%3Afs_miniProfile%3AACoAACrSqIkBEjsja49WahJ3fmsmHE-Q95oTXZA', 'https://www.linkedin.com/in/adel-arfaoui?miniProfileUrn=urn%3Ali%3Afs_miniProfile%3AACoAADCGsPQBaBtrWHVkLPEjpO9mHCs6yuFQ4P0']\n"
     ]
    }
   ],
   "source": [
    "print(GetUrl())"
   ]
  },
  {
   "cell_type": "code",
   "execution_count": 89,
   "id": "a32c63d7",
   "metadata": {},
   "outputs": [],
   "source": [
    "def GetURLsonPages():\n",
    "    input_page = int(input(\"How many pages u want to scrape? \"))\n",
    "    URLs_all_page = []\n",
    "    for page in range(input_page):\n",
    "        URLs_one_page = GetUrl()\n",
    "        time.sleep(2)\n",
    "        driver.execute_script('window.scrollTo(0,document.body.scrollHeight);')\n",
    "        time.sleep(2)\n",
    "        next_button = driver.find_element(By.CLASS_NAME, 'artdeco-pagination__button--next')\n",
    "        driver.execute_script(\"arguments[0].click();\", next_button)\n",
    "        URLs_all_page = URLs_all_page + URLs_one_page\n",
    "        time.sleep(2)\n",
    "    return URLs_all_page"
   ]
  },
  {
   "cell_type": "code",
   "execution_count": 90,
   "id": "ca68cbaa",
   "metadata": {},
   "outputs": [
    {
     "name": "stdout",
     "output_type": "stream",
     "text": [
      "How many pages u want to scrape? 6\n",
      "['https://www.linkedin.com/in/essid-bassem-79366115?miniProfileUrn=urn%3Ali%3Afs_miniProfile%3AACoAAAMfSR8B03kZ0J0azO5yE4pos0rRUG4oStk', 'https://www.linkedin.com/in/ACoAAAP9v_gBY9jL6FagYAvPhG_Kexgcm-RrVwY?miniProfileUrn=urn%3Ali%3Afs_miniProfile%3AACoAAAP9v_gBY9jL6FagYAvPhG_Kexgcm-RrVwY', 'https://www.linkedin.com/in/youness-gmar?miniProfileUrn=urn%3Ali%3Afs_miniProfile%3AACoAADDHB2cB5TlmWIjBdjUzYInnnhWX5Cz4-PE', 'https://www.linkedin.com/in/ACoAAAXwvO0BpORKvn7B6nn2m53wf9tZzBWTWaU?miniProfileUrn=urn%3Ali%3Afs_miniProfile%3AACoAAAXwvO0BpORKvn7B6nn2m53wf9tZzBWTWaU', 'https://www.linkedin.com/in/salim-mannai-251700151?miniProfileUrn=urn%3Ali%3Afs_miniProfile%3AACoAACSW5V0Bi7gFeb-fnqBDpOY8y8Zizs8lAT0', 'https://www.linkedin.com/in/ACoAAADehmgBieF03Em19rVTYL03Hl_uoeUQtB0?miniProfileUrn=urn%3Ali%3Afs_miniProfile%3AACoAAADehmgBieF03Em19rVTYL03Hl_uoeUQtB0', 'https://www.linkedin.com/in/ACoAABKXEf8B9z0zdc5dlGM_uvWuM9p6uqxM1nM?miniProfileUrn=urn%3Ali%3Afs_miniProfile%3AACoAABKXEf8B9z0zdc5dlGM_uvWuM9p6uqxM1nM', 'https://www.linkedin.com/in/mohamedrhim?miniProfileUrn=urn%3Ali%3Afs_miniProfile%3AACoAAAQpRR4BWsfNzqqUs_4Zz-4VN6_QJU3V5PU', 'https://www.linkedin.com/in/bedhief-younes?miniProfileUrn=urn%3Ali%3Afs_miniProfile%3AACoAACmAryIBqL0oZBjUFlkjH35GBSpG3_YLdVg', 'https://www.linkedin.com/in/ACoAABMasocBGlychAs6mv2vUv3Sp47QjbWBlHg?miniProfileUrn=urn%3Ali%3Afs_miniProfile%3AACoAABMasocBGlychAs6mv2vUv3Sp47QjbWBlHg', 'https://www.linkedin.com/in/oumayma-boughdiri-6885421b0?miniProfileUrn=urn%3Ali%3Afs_miniProfile%3AACoAADEzkUgB__tafuhbMA-uAoez_LPaA9vyMw8', 'https://www.linkedin.com/in/ACoAACgMuBcB2CpZaGbNawRnXPd9NGmF3uQ0pc4?miniProfileUrn=urn%3Ali%3Afs_miniProfile%3AACoAACgMuBcB2CpZaGbNawRnXPd9NGmF3uQ0pc4', 'https://www.linkedin.com/in/ACoAADcRMOIBwaDYwVQFeRaV2S7ZhAH8T0IRF9Q?miniProfileUrn=urn%3Ali%3Afs_miniProfile%3AACoAADcRMOIBwaDYwVQFeRaV2S7ZhAH8T0IRF9Q', 'https://www.linkedin.com/in/hafedh-hrizi-0a2b42174?miniProfileUrn=urn%3Ali%3Afs_miniProfile%3AACoAACl1lfoBnybGgQZJCktVwbltuKKdmsw0-ng', 'https://www.linkedin.com/in/ACoAADTf5ZIBiyJWPttgR3-GOc1cKti1KkoK_88?miniProfileUrn=urn%3Ali%3Afs_miniProfile%3AACoAADTf5ZIBiyJWPttgR3-GOc1cKti1KkoK_88', 'https://www.linkedin.com/in/maryem-atitallah?miniProfileUrn=urn%3Ali%3Afs_miniProfile%3AACoAACR9v3EBGY-cvz0GOLcFu0eX91ZLzPO4wQE', 'https://www.linkedin.com/in/ahmed-gharsallah?miniProfileUrn=urn%3Ali%3Afs_miniProfile%3AACoAAC8ewloBWNSWodZXnzFTWYVLG1Dowv16lIo', 'https://www.linkedin.com/in/ACoAACrSqIkBEjsja49WahJ3fmsmHE-Q95oTXZA?miniProfileUrn=urn%3Ali%3Afs_miniProfile%3AACoAACrSqIkBEjsja49WahJ3fmsmHE-Q95oTXZA', 'https://www.linkedin.com/in/adel-arfaoui?miniProfileUrn=urn%3Ali%3Afs_miniProfile%3AACoAADCGsPQBaBtrWHVkLPEjpO9mHCs6yuFQ4P0', 'https://www.linkedin.com/in/maher-arfa-5b84a21a?miniProfileUrn=urn%3Ali%3Afs_miniProfile%3AACoAAAP8ytwBd_hvfMu8KECE4NpzKbxN4slMQBU', 'https://www.linkedin.com/in/kais-baazaoui-035008142?miniProfileUrn=urn%3Ali%3Afs_miniProfile%3AACoAACKHVikBxNNU9JrYnFZkCSYrQ39dH9taaAk', 'https://www.linkedin.com/in/ACoAAA1cau4Bm0WAPjFrlH8L45HDHECtJmW2hCg?miniProfileUrn=urn%3Ali%3Afs_miniProfile%3AACoAAA1cau4Bm0WAPjFrlH8L45HDHECtJmW2hCg', 'https://www.linkedin.com/in/ACoAABMasocBGlychAs6mv2vUv3Sp47QjbWBlHg?miniProfileUrn=urn%3Ali%3Afs_miniProfile%3AACoAABMasocBGlychAs6mv2vUv3Sp47QjbWBlHg', 'https://www.linkedin.com/in/ghazioueslati?miniProfileUrn=urn%3Ali%3Afs_miniProfile%3AACoAAA7OjBkBY0KCsZOfl-ULDRATRocy0Ry95pE', 'https://www.linkedin.com/in/ACoAAADehmgBieF03Em19rVTYL03Hl_uoeUQtB0?miniProfileUrn=urn%3Ali%3Afs_miniProfile%3AACoAAADehmgBieF03Em19rVTYL03Hl_uoeUQtB0', 'https://www.linkedin.com/in/ACoAACgMuBcB2CpZaGbNawRnXPd9NGmF3uQ0pc4?miniProfileUrn=urn%3Ali%3Afs_miniProfile%3AACoAACgMuBcB2CpZaGbNawRnXPd9NGmF3uQ0pc4', 'https://www.linkedin.com/in/mohamed-amine-zouaoui-78b418140?miniProfileUrn=urn%3Ali%3Afs_miniProfile%3AACoAACI7u1sB111Wy--sHPgrZsNvx8O-Af_bUXE', 'https://www.linkedin.com/in/ameni-elheni-861319140?miniProfileUrn=urn%3Ali%3Afs_miniProfile%3AACoAACI39okBTUctaMT4i0gWDbAR689bWu7RaiA', 'https://www.linkedin.com/in/amani-chebbah-4167a01b7?miniProfileUrn=urn%3Ali%3Afs_miniProfile%3AACoAADJ78FIBljV4_luPkK7o_B4PdFp_9lAv4Io', 'https://www.linkedin.com/in/ACoAADPKJDsBgMg75DfIyuf2loWlBnmuzONdCFk?miniProfileUrn=urn%3Ali%3Afs_miniProfile%3AACoAADPKJDsBgMg75DfIyuf2loWlBnmuzONdCFk', 'https://www.linkedin.com/in/anouar-jendoubi-it-telecom-senior-director-engineer-403b181?miniProfileUrn=urn%3Ali%3Afs_miniProfile%3AACoAAABX3UMByd4hxCD0mOKE1mDFLvKwpELJbiw', 'https://www.linkedin.com/in/aouadi-ahmed?miniProfileUrn=urn%3Ali%3Afs_miniProfile%3AACoAAAnTRkEBU99-WmmvKszcdDhBru9nNZlNIrY', 'https://www.linkedin.com/in/ACoAABqos_kBRo-VXn9gRyll6XMgrTHh5rRTEaM?miniProfileUrn=urn%3Ali%3Afs_miniProfile%3AACoAABqos_kBRo-VXn9gRyll6XMgrTHh5rRTEaM', 'https://www.linkedin.com/in/yassine-ben-abdelhamid-11223ba1?miniProfileUrn=urn%3Ali%3Afs_miniProfile%3AACoAABWR5d4BFI383dVTM3ViGnBHL8opBn15Ay4', 'https://www.linkedin.com/in/narjes-ben-abid-46078b127?miniProfileUrn=urn%3Ali%3Afs_miniProfile%3AACoAAB9C2MgBDfm2BwHx3oTXI0s2YzRAnCfwVb0', 'https://www.linkedin.com/in/zayanihamza?miniProfileUrn=urn%3Ali%3Afs_miniProfile%3AACoAABU1a2MBFqbxBc4NbsybpZ-s8lNwD_2fM4Q', 'https://www.linkedin.com/in/ACoAABU1a2MBFqbxBc4NbsybpZ-s8lNwD_2fM4Q?miniProfileUrn=urn%3Ali%3Afs_miniProfile%3AACoAABU1a2MBFqbxBc4NbsybpZ-s8lNwD_2fM4Q', 'https://www.linkedin.com/in/meddeboussama?miniProfileUrn=urn%3Ali%3Afs_miniProfile%3AACoAACRrTvQB5ThdMOCqXs9vOt5bcu9JCrnCbsE', 'https://www.linkedin.com/in/ACoAAADehmgBieF03Em19rVTYL03Hl_uoeUQtB0?miniProfileUrn=urn%3Ali%3Afs_miniProfile%3AACoAAADehmgBieF03Em19rVTYL03Hl_uoeUQtB0', 'https://www.linkedin.com/in/ACoAADO8XK0B8V2wpea5LEM1JZW5_FLG0XubGYU?miniProfileUrn=urn%3Ali%3Afs_miniProfile%3AACoAADO8XK0B8V2wpea5LEM1JZW5_FLG0XubGYU', 'https://www.linkedin.com/in/sourour-lahfawi-733432b8?miniProfileUrn=urn%3Ali%3Afs_miniProfile%3AACoAABj69JcBJQHxdMjUVP7QR-EQQbQ9QjS30Ms', 'https://www.linkedin.com/in/sonia-ben-brahim-b925851ab?miniProfileUrn=urn%3Ali%3Afs_miniProfile%3AACoAADEHXF4BAxYkzWariQ68wlJl-zB9mu6m2c4', 'https://www.linkedin.com/in/ACoAADPKJDsBgMg75DfIyuf2loWlBnmuzONdCFk?miniProfileUrn=urn%3Ali%3Afs_miniProfile%3AACoAADPKJDsBgMg75DfIyuf2loWlBnmuzONdCFk', 'https://www.linkedin.com/in/noureddine-mouelhi-4b31724?miniProfileUrn=urn%3Ali%3Afs_miniProfile%3AACoAAAC8U0cBPSCvwjmCq2jJknqYh8Z5NKlHA98', 'https://www.linkedin.com/in/jerbi-afef-9300043b?miniProfileUrn=urn%3Ali%3Afs_miniProfile%3AACoAAAhdkDQBY_JJkoRj9yG5O8z8643_sPKJ_rA', 'https://www.linkedin.com/in/ACoAADcRMOIBwaDYwVQFeRaV2S7ZhAH8T0IRF9Q?miniProfileUrn=urn%3Ali%3Afs_miniProfile%3AACoAADcRMOIBwaDYwVQFeRaV2S7ZhAH8T0IRF9Q', 'https://www.linkedin.com/in/charfedine-chammar-14614022?miniProfileUrn=urn%3Ali%3Afs_miniProfile%3AACoAAASlsMYBZU2S63DHMKAIT5p5N9STb4i4enE', 'https://www.linkedin.com/in/jamel-adouni-676018117?miniProfileUrn=urn%3Ali%3Afs_miniProfile%3AACoAAB0DOroBAwgMGtNwNszKe_Nn-OV-DpkXTso', 'https://www.linkedin.com/in/ajroudi-ines-543a58156?miniProfileUrn=urn%3Ali%3Afs_miniProfile%3AACoAACWH5gMB3Nd0XtjGgzsbkQPQJGPsg2gBkS4', 'https://www.linkedin.com/in/oussama-saad-b78337162?miniProfileUrn=urn%3Ali%3Afs_miniProfile%3AACoAACbZLMwBYmIVdDrzESX982DkLGm-xpRSXNY', 'https://www.linkedin.com/in/ACoAABqos_kBRo-VXn9gRyll6XMgrTHh5rRTEaM?miniProfileUrn=urn%3Ali%3Afs_miniProfile%3AACoAABqos_kBRo-VXn9gRyll6XMgrTHh5rRTEaM', 'https://www.linkedin.com/in/maram-elyamine-245243199?miniProfileUrn=urn%3Ali%3Afs_miniProfile%3AACoAAC58wZUBSsgdZEnKSy-3oUdkvAtJz0n4pbc', 'https://www.linkedin.com/in/ACoAADNfVLQBiZJanaJ9WNnSORQgevP9RH4Dgow?miniProfileUrn=urn%3Ali%3Afs_miniProfile%3AACoAADNfVLQBiZJanaJ9WNnSORQgevP9RH4Dgow', 'https://www.linkedin.com/in/ACoAADPKJDsBgMg75DfIyuf2loWlBnmuzONdCFk?miniProfileUrn=urn%3Ali%3Afs_miniProfile%3AACoAADPKJDsBgMg75DfIyuf2loWlBnmuzONdCFk', 'https://www.linkedin.com/in/jawhar-jarboui-b70a33178?miniProfileUrn=urn%3Ali%3Afs_miniProfile%3AACoAAConxcQBzXWN2U9jNU2bXv-omy3uRSh7WGQ', 'https://www.linkedin.com/in/ACoAAADehmgBieF03Em19rVTYL03Hl_uoeUQtB0?miniProfileUrn=urn%3Ali%3Afs_miniProfile%3AACoAAADehmgBieF03Em19rVTYL03Hl_uoeUQtB0', 'https://www.linkedin.com/in/noamene-ben-jomaa-7b16371a7?miniProfileUrn=urn%3Ali%3Afs_miniProfile%3AACoAADBTXrUBcVqmcW7iyVBVPYx0qmZCYnY7cWE', 'https://www.linkedin.com/in/omri-fedia-a335a8170?miniProfileUrn=urn%3Ali%3Afs_miniProfile%3AACoAACiqoccBsf5JtJaKoFPu4fAEkD5xiAr6vdo', 'https://www.linkedin.com/in/dhouha-tlig-9059a8126?miniProfileUrn=urn%3Ali%3Afs_miniProfile%3AACoAAB8dcRUBNPpbtOKx1L1ebxF4x5zH2-3TK6A', 'https://www.linkedin.com/in/ACoAADcRMOIBwaDYwVQFeRaV2S7ZhAH8T0IRF9Q?miniProfileUrn=urn%3Ali%3Afs_miniProfile%3AACoAADcRMOIBwaDYwVQFeRaV2S7ZhAH8T0IRF9Q', 'https://www.linkedin.com/in/hazbri-nidhal-465a871ba?miniProfileUrn=urn%3Ali%3Afs_miniProfile%3AACoAADMPkc0BsoTB22OIcl7cwlAXo8NatySUHts', 'https://www.linkedin.com/in/ACoAABMasocBGlychAs6mv2vUv3Sp47QjbWBlHg?miniProfileUrn=urn%3Ali%3Afs_miniProfile%3AACoAABMasocBGlychAs6mv2vUv3Sp47QjbWBlHg', 'https://www.linkedin.com/in/ACoAACSWMYMBxm8M8T4Xd_dAaZqKUEMrPrz99zs?miniProfileUrn=urn%3Ali%3Afs_miniProfile%3AACoAACSWMYMBxm8M8T4Xd_dAaZqKUEMrPrz99zs', 'https://www.linkedin.com/in/souhir?miniProfileUrn=urn%3Ali%3Afs_miniProfile%3AACoAAADgNHIBeHUm9BvhzWAlmaXh4FL_4q-IfTU', 'https://www.linkedin.com/in/houdalazghab?miniProfileUrn=urn%3Ali%3Afs_miniProfile%3AACoAABfwZzUBohtwZhmpeaOyIUU-eMBje7Ax2VM', 'https://www.linkedin.com/in/rajaa-ben-khedher-31b640135?miniProfileUrn=urn%3Ali%3Afs_miniProfile%3AACoAACEFHccBQvg5JJsdHH8R1EBXIKlc_IrNDvc', 'https://www.linkedin.com/in/anis-rouissi-153786129?miniProfileUrn=urn%3Ali%3Afs_miniProfile%3AACoAAB-d1U8BQ2LMcj5mn12TfEZ1ird8RSmR3Z4', 'https://www.linkedin.com/in/lamjed-kacha-lachheb-b847a2205?miniProfileUrn=urn%3Ali%3Afs_miniProfile%3AACoAADRDohQBLGzTi2r4pxBo32288FYtr5VhZ0c', 'https://www.linkedin.com/in/mohamed-el-ayari-5bb162115?miniProfileUrn=urn%3Ali%3Afs_miniProfile%3AACoAABytUt8BJYUilBtUcZ2NzPwvWC-8BnO0upk', 'https://www.linkedin.com/in/ACoAABqos_kBRo-VXn9gRyll6XMgrTHh5rRTEaM?miniProfileUrn=urn%3Ali%3Afs_miniProfile%3AACoAABqos_kBRo-VXn9gRyll6XMgrTHh5rRTEaM', 'https://www.linkedin.com/in/oumeima-harzallah-858b2b1b9?miniProfileUrn=urn%3Ali%3Afs_miniProfile%3AACoAADLkBQQBcPegL0mUy8kZjvGgmAwQ9EsMSV4', 'https://www.linkedin.com/in/ACoAACczAygBCh3W-MgbqzHThyrTqDxi8plqX94?miniProfileUrn=urn%3Ali%3Afs_miniProfile%3AACoAACczAygBCh3W-MgbqzHThyrTqDxi8plqX94', 'https://www.linkedin.com/in/ACoAACvZPPYBDC6Y63DzvxmxTBN5EBg-5MKv-RY?miniProfileUrn=urn%3Ali%3Afs_miniProfile%3AACoAACvZPPYBDC6Y63DzvxmxTBN5EBg-5MKv-RY', 'https://www.linkedin.com/in/mahmoud-fekih-ahmed-3b222211?miniProfileUrn=urn%3Ali%3Afs_miniProfile%3AACoAAAJYmbYBUwwLUSBFMrI00l7foLKxBK0Wk0M', 'https://www.linkedin.com/in/alaeddine-ben-salem-56327a189?miniProfileUrn=urn%3Ali%3Afs_miniProfile%3AACoAACxbJZsBw4Pya4bzpKpsJAflFB7fbEZ-6KQ', 'https://www.linkedin.com/in/mariam-smaoui-611778169?miniProfileUrn=urn%3Ali%3Afs_miniProfile%3AACoAACgolG0BRE84IFAc58iMD1KMlkXcCOVjc54', 'https://www.linkedin.com/in/ACoAABMasocBGlychAs6mv2vUv3Sp47QjbWBlHg?miniProfileUrn=urn%3Ali%3Afs_miniProfile%3AACoAABMasocBGlychAs6mv2vUv3Sp47QjbWBlHg', 'https://www.linkedin.com/in/ACoAADcRMOIBwaDYwVQFeRaV2S7ZhAH8T0IRF9Q?miniProfileUrn=urn%3Ali%3Afs_miniProfile%3AACoAADcRMOIBwaDYwVQFeRaV2S7ZhAH8T0IRF9Q', 'https://www.linkedin.com/in/hasnaoui-hiba-226239184?miniProfileUrn=urn%3Ali%3Afs_miniProfile%3AACoAACt2CP4BZNxB97N0lOEW0-FgeddHPYRF2pc', 'https://www.linkedin.com/in/ACoAABY_psoB7G0lK3DKY7ERdhVDjSL-rSGvykQ?miniProfileUrn=urn%3Ali%3Afs_miniProfile%3AACoAABY_psoB7G0lK3DKY7ERdhVDjSL-rSGvykQ', 'https://www.linkedin.com/in/ACoAADTf5ZIBiyJWPttgR3-GOc1cKti1KkoK_88?miniProfileUrn=urn%3Ali%3Afs_miniProfile%3AACoAADTf5ZIBiyJWPttgR3-GOc1cKti1KkoK_88', 'https://www.linkedin.com/in/wajdi-wesleti-a7ab90164?miniProfileUrn=urn%3Ali%3Afs_miniProfile%3AACoAACdUYv4BhlokIm52BQL7mVBIGrJ6jO99xbU', 'https://www.linkedin.com/in/ACoAABMkIQwBB11IdfRmL8lwsa3wwdslxC4_y9k?miniProfileUrn=urn%3Ali%3Afs_miniProfile%3AACoAABMkIQwBB11IdfRmL8lwsa3wwdslxC4_y9k', 'https://www.linkedin.com/in/ACoAACd39xwBPbXvtylfAph8lfbtbUq6rV5WThE?miniProfileUrn=urn%3Ali%3Afs_miniProfile%3AACoAACd39xwBPbXvtylfAph8lfbtbUq6rV5WThE', 'https://www.linkedin.com/in/ben-othmen-fehmi-37b25b85?miniProfileUrn=urn%3Ali%3Afs_miniProfile%3AACoAABIDSU8Bb4HC_fdhhSFLepopDRX8zWXcCCA', 'https://www.linkedin.com/in/ACoAAADehmgBieF03Em19rVTYL03Hl_uoeUQtB0?miniProfileUrn=urn%3Ali%3Afs_miniProfile%3AACoAAADehmgBieF03Em19rVTYL03Hl_uoeUQtB0', 'https://www.linkedin.com/in/abdessalem-b-9aa45b164?miniProfileUrn=urn%3Ali%3Afs_miniProfile%3AACoAACc41NIB_1Ekobp-2geagVPS_vdHNwgiLxY', 'https://www.linkedin.com/in/ACoAAADehmgBieF03Em19rVTYL03Hl_uoeUQtB0?miniProfileUrn=urn%3Ali%3Afs_miniProfile%3AACoAAADehmgBieF03Em19rVTYL03Hl_uoeUQtB0', 'https://www.linkedin.com/in/laoun-mostafa-nadir-b76246114?miniProfileUrn=urn%3Ali%3Afs_miniProfile%3AACoAAByDCwoBgaj2D4FN-2h5_Gjxvo8Bk6WzoBQ', 'https://www.linkedin.com/in/ACoAADGDffsB8mLQTS-NthZFRi0yyUZzvrBgf2A?miniProfileUrn=urn%3Ali%3Afs_miniProfile%3AACoAADGDffsB8mLQTS-NthZFRi0yyUZzvrBgf2A', 'https://www.linkedin.com/in/ACoAADTYleIB_NNG46vgIx3V-jEErw85pFBTrmc?miniProfileUrn=urn%3Ali%3Afs_miniProfile%3AACoAADTYleIB_NNG46vgIx3V-jEErw85pFBTrmc', 'https://www.linkedin.com/in/arifi-thameur-530a54131?miniProfileUrn=urn%3Ali%3Afs_miniProfile%3AACoAACBeevQBrVEdgr803ASs7r6r4FtEz9diCY0', 'https://www.linkedin.com/in/kamel-bouallegui-57555973?miniProfileUrn=urn%3Ali%3Afs_miniProfile%3AACoAAA-QwOkB4iBM1qQVW30LRDqOUYJRcTiAg_c', 'https://www.linkedin.com/in/nasserkhaled?miniProfileUrn=urn%3Ali%3Afs_miniProfile%3AACoAAAG-gyEB2cWEyk7HydjUgBnQBFBHJi4GtRY', 'https://www.linkedin.com/in/rakia-abdi-89269751?miniProfileUrn=urn%3Ali%3Afs_miniProfile%3AACoAAAr1JS4Bef8VvEbf7n3To_JNXd5d-xPU9qg', 'https://www.linkedin.com/in/ACoAADcRMOIBwaDYwVQFeRaV2S7ZhAH8T0IRF9Q?miniProfileUrn=urn%3Ali%3Afs_miniProfile%3AACoAADcRMOIBwaDYwVQFeRaV2S7ZhAH8T0IRF9Q', 'https://www.linkedin.com/in/rania-fliss-280a1258?miniProfileUrn=urn%3Ali%3Afs_miniProfile%3AACoAAAxAmAABuA1giMc_MANeYymi05jBoHCd8UU', 'https://www.linkedin.com/in/fedi-ayouni-b3375017b?miniProfileUrn=urn%3Ali%3Afs_miniProfile%3AACoAACqln1cBlRxKT3A4vkvgJYF2BXRON7HnpeM', 'https://www.linkedin.com/in/ACoAAA1cau4Bm0WAPjFrlH8L45HDHECtJmW2hCg?miniProfileUrn=urn%3Ali%3Afs_miniProfile%3AACoAAA1cau4Bm0WAPjFrlH8L45HDHECtJmW2hCg', 'https://www.linkedin.com/in/ACoAADV4gDsBELPaps4DlQUizrimbGGCyreCQ6s?miniProfileUrn=urn%3Ali%3Afs_miniProfile%3AACoAADV4gDsBELPaps4DlQUizrimbGGCyreCQ6s', 'https://www.linkedin.com/in/youssef-shili-3258a8135?miniProfileUrn=urn%3Ali%3Afs_miniProfile%3AACoAACEO0c0BgHTsY9dmGHaMz6A9KhNHzFbOEig', 'https://www.linkedin.com/in/kamel-abdelkader-091a4a4a?miniProfileUrn=urn%3Ali%3Afs_miniProfile%3AACoAAAp6H-0BN9-hR8UpNA5TcZ_TX4Bq7-lHe68']\n"
     ]
    }
   ],
   "source": [
    "print(GetURLsonPages())"
   ]
  },
  {
   "cell_type": "code",
   "execution_count": 91,
   "id": "48db9184",
   "metadata": {},
   "outputs": [],
   "source": [
    "def scrape_linkedin_profile(linkedin_URL):\n",
    "    driver.get(linkedin_URL)\n",
    "    print('- Accessing profile:', linkedin_URL)\n",
    "\n",
    "    page_source = BeautifulSoup(driver.page_source, \"html.parser\")\n",
    "\n",
    "    # Extract name\n",
    "    name_element = page_source.find('h1', {'class': 'text-heading-xlarge'})\n",
    "    name = name_element.get_text(strip=True) if name_element else \"Name not found\"\n",
    "\n",
    "    # Extract title\n",
    "    title_element = page_source.find('div', {'class': 'text-body-medium'})\n",
    "    title = title_element.get_text(strip=True) if title_element else \"Title not found\"\n",
    "\n",
    "    # Extract location\n",
    "    location_element = page_source.find('div', {'class': 'UPmhQSygwYmrOOhWLVHGYbkovJLwKKPA mt2'})\n",
    "    location = location_element.find('span', {'class': 'text-body-small'}).get_text(strip=True) if location_element else \"Location not found\"\n",
    "\n",
    "    return {'Name': name, 'Job Title': title, 'Location': location, 'URL': linkedin_URL}\n",
    "\n"
   ]
  },
  {
   "cell_type": "code",
   "execution_count": 52,
   "id": "8a75b6e0",
   "metadata": {},
   "outputs": [
    {
     "name": "stdout",
     "output_type": "stream",
     "text": [
      "- Accessing profile: https://www.linkedin.com/in/fatma-farjallah-03412421b?miniProfileUrn=urn%3Ali%3Afs_miniProfile%3AACoAADdeeSgBz73ztKXo4aiJ_Ng05nHE0B8dpwk\n"
     ]
    },
    {
     "data": {
      "text/plain": [
       "{'Name': 'Fatma Farjallah',\n",
       " 'Job Title': 'Software Engineer',\n",
       " 'Location': 'Location not found',\n",
       " 'URL': 'https://www.linkedin.com/in/fatma-farjallah-03412421b?miniProfileUrn=urn%3Ali%3Afs_miniProfile%3AACoAADdeeSgBz73ztKXo4aiJ_Ng05nHE0B8dpwk'}"
      ]
     },
     "execution_count": 52,
     "metadata": {},
     "output_type": "execute_result"
    }
   ],
   "source": [
    "single_profile_URL = 'https://www.linkedin.com/in/fatma-farjallah-03412421b?miniProfileUrn=urn%3Ali%3Afs_miniProfile%3AACoAADdeeSgBz73ztKXo4aiJ_Ng05nHE0B8dpwk'\n",
    "scrape_linkedin_profile(single_profile_URL)"
   ]
  },
  {
   "cell_type": "code",
   "execution_count": 93,
   "id": "e98a20b8",
   "metadata": {},
   "outputs": [],
   "source": [
    "def scrape_all_profiles_to_csv(linkedin_URLs):\n",
    "    with open('LinekdinProfilesF.csv', 'a', newline='',encoding='utf-8') as file_output:\n",
    "        headers = ['Name', 'Job Title', 'Location', 'URL']\n",
    "        writer = csv.DictWriter(file_output, delimiter=';', lineterminator='\\n', fieldnames=headers)\n",
    "        writer.writeheader()\n",
    " \n",
    "        for linkedin_URL in linkedin_URLs:\n",
    "            profile_data = scrape_linkedin_profile(linkedin_URL)\n",
    "            writer.writerow(profile_data)\n",
    "            print('\\n')\n",
    "\n",
    "    print('Mission Completed!')"
   ]
  },
  {
   "cell_type": "code",
   "execution_count": 94,
   "id": "28795e2c",
   "metadata": {},
   "outputs": [
    {
     "name": "stdout",
     "output_type": "stream",
     "text": [
      "How many pages u want to scrape? 6\n"
     ]
    }
   ],
   "source": [
    "URLs_all_page = GetURLsonPages()\n",
    "filtered_URLs = [url for url in URLs_all_page if not url.startswith('https://www.linkedin.com/in/ACo')]"
   ]
  },
  {
   "cell_type": "code",
   "execution_count": 95,
   "id": "997072cd",
   "metadata": {},
   "outputs": [
    {
     "name": "stdout",
     "output_type": "stream",
     "text": [
      "- Accessing profile: https://www.linkedin.com/in/essid-bassem-79366115?miniProfileUrn=urn%3Ali%3Afs_miniProfile%3AACoAAAMfSR8B03kZ0J0azO5yE4pos0rRUG4oStk\n",
      "\n",
      "\n",
      "- Accessing profile: https://www.linkedin.com/in/youness-gmar?miniProfileUrn=urn%3Ali%3Afs_miniProfile%3AACoAADDHB2cB5TlmWIjBdjUzYInnnhWX5Cz4-PE\n",
      "\n",
      "\n",
      "- Accessing profile: https://www.linkedin.com/in/salim-mannai-251700151?miniProfileUrn=urn%3Ali%3Afs_miniProfile%3AACoAACSW5V0Bi7gFeb-fnqBDpOY8y8Zizs8lAT0\n",
      "\n",
      "\n",
      "- Accessing profile: https://www.linkedin.com/in/mohamedrhim?miniProfileUrn=urn%3Ali%3Afs_miniProfile%3AACoAAAQpRR4BWsfNzqqUs_4Zz-4VN6_QJU3V5PU\n",
      "\n",
      "\n",
      "- Accessing profile: https://www.linkedin.com/in/bedhief-younes?miniProfileUrn=urn%3Ali%3Afs_miniProfile%3AACoAACmAryIBqL0oZBjUFlkjH35GBSpG3_YLdVg\n",
      "\n",
      "\n",
      "- Accessing profile: https://www.linkedin.com/in/oumayma-boughdiri-6885421b0?miniProfileUrn=urn%3Ali%3Afs_miniProfile%3AACoAADEzkUgB__tafuhbMA-uAoez_LPaA9vyMw8\n",
      "\n",
      "\n",
      "- Accessing profile: https://www.linkedin.com/in/hafedh-hrizi-0a2b42174?miniProfileUrn=urn%3Ali%3Afs_miniProfile%3AACoAACl1lfoBnybGgQZJCktVwbltuKKdmsw0-ng\n",
      "\n",
      "\n",
      "- Accessing profile: https://www.linkedin.com/in/maryem-atitallah?miniProfileUrn=urn%3Ali%3Afs_miniProfile%3AACoAACR9v3EBGY-cvz0GOLcFu0eX91ZLzPO4wQE\n",
      "\n",
      "\n",
      "- Accessing profile: https://www.linkedin.com/in/ahmed-gharsallah?miniProfileUrn=urn%3Ali%3Afs_miniProfile%3AACoAAC8ewloBWNSWodZXnzFTWYVLG1Dowv16lIo\n",
      "\n",
      "\n",
      "- Accessing profile: https://www.linkedin.com/in/adel-arfaoui?miniProfileUrn=urn%3Ali%3Afs_miniProfile%3AACoAADCGsPQBaBtrWHVkLPEjpO9mHCs6yuFQ4P0\n",
      "\n",
      "\n",
      "- Accessing profile: https://www.linkedin.com/in/maher-arfa-5b84a21a?miniProfileUrn=urn%3Ali%3Afs_miniProfile%3AACoAAAP8ytwBd_hvfMu8KECE4NpzKbxN4slMQBU\n",
      "\n",
      "\n",
      "- Accessing profile: https://www.linkedin.com/in/kais-baazaoui-035008142?miniProfileUrn=urn%3Ali%3Afs_miniProfile%3AACoAACKHVikBxNNU9JrYnFZkCSYrQ39dH9taaAk\n",
      "\n",
      "\n",
      "- Accessing profile: https://www.linkedin.com/in/ghazioueslati?miniProfileUrn=urn%3Ali%3Afs_miniProfile%3AACoAAA7OjBkBY0KCsZOfl-ULDRATRocy0Ry95pE\n",
      "\n",
      "\n",
      "- Accessing profile: https://www.linkedin.com/in/mohamed-amine-zouaoui-78b418140?miniProfileUrn=urn%3Ali%3Afs_miniProfile%3AACoAACI7u1sB111Wy--sHPgrZsNvx8O-Af_bUXE\n",
      "\n",
      "\n",
      "- Accessing profile: https://www.linkedin.com/in/ameni-elheni-861319140?miniProfileUrn=urn%3Ali%3Afs_miniProfile%3AACoAACI39okBTUctaMT4i0gWDbAR689bWu7RaiA\n",
      "\n",
      "\n",
      "- Accessing profile: https://www.linkedin.com/in/amani-chebbah-4167a01b7?miniProfileUrn=urn%3Ali%3Afs_miniProfile%3AACoAADJ78FIBljV4_luPkK7o_B4PdFp_9lAv4Io\n",
      "\n",
      "\n",
      "- Accessing profile: https://www.linkedin.com/in/anouar-jendoubi-it-telecom-senior-director-engineer-403b181?miniProfileUrn=urn%3Ali%3Afs_miniProfile%3AACoAAABX3UMByd4hxCD0mOKE1mDFLvKwpELJbiw\n",
      "\n",
      "\n",
      "- Accessing profile: https://www.linkedin.com/in/aouadi-ahmed?miniProfileUrn=urn%3Ali%3Afs_miniProfile%3AACoAAAnTRkEBU99-WmmvKszcdDhBru9nNZlNIrY\n",
      "\n",
      "\n",
      "- Accessing profile: https://www.linkedin.com/in/yassine-ben-abdelhamid-11223ba1?miniProfileUrn=urn%3Ali%3Afs_miniProfile%3AACoAABWR5d4BFI383dVTM3ViGnBHL8opBn15Ay4\n",
      "\n",
      "\n",
      "- Accessing profile: https://www.linkedin.com/in/narjes-ben-abid-46078b127?miniProfileUrn=urn%3Ali%3Afs_miniProfile%3AACoAAB9C2MgBDfm2BwHx3oTXI0s2YzRAnCfwVb0\n",
      "\n",
      "\n",
      "- Accessing profile: https://www.linkedin.com/in/zayanihamza?miniProfileUrn=urn%3Ali%3Afs_miniProfile%3AACoAABU1a2MBFqbxBc4NbsybpZ-s8lNwD_2fM4Q\n",
      "\n",
      "\n",
      "- Accessing profile: https://www.linkedin.com/in/meddeboussama?miniProfileUrn=urn%3Ali%3Afs_miniProfile%3AACoAACRrTvQB5ThdMOCqXs9vOt5bcu9JCrnCbsE\n",
      "\n",
      "\n",
      "- Accessing profile: https://www.linkedin.com/in/sourour-lahfawi-733432b8?miniProfileUrn=urn%3Ali%3Afs_miniProfile%3AACoAABj69JcBJQHxdMjUVP7QR-EQQbQ9QjS30Ms\n",
      "\n",
      "\n",
      "- Accessing profile: https://www.linkedin.com/in/sonia-ben-brahim-b925851ab?miniProfileUrn=urn%3Ali%3Afs_miniProfile%3AACoAADEHXF4BAxYkzWariQ68wlJl-zB9mu6m2c4\n",
      "\n",
      "\n",
      "- Accessing profile: https://www.linkedin.com/in/noureddine-mouelhi-4b31724?miniProfileUrn=urn%3Ali%3Afs_miniProfile%3AACoAAAC8U0cBPSCvwjmCq2jJknqYh8Z5NKlHA98\n",
      "\n",
      "\n",
      "- Accessing profile: https://www.linkedin.com/in/jerbi-afef-9300043b?miniProfileUrn=urn%3Ali%3Afs_miniProfile%3AACoAAAhdkDQBY_JJkoRj9yG5O8z8643_sPKJ_rA\n",
      "\n",
      "\n",
      "- Accessing profile: https://www.linkedin.com/in/charfedine-chammar-14614022?miniProfileUrn=urn%3Ali%3Afs_miniProfile%3AACoAAASlsMYBZU2S63DHMKAIT5p5N9STb4i4enE\n",
      "\n",
      "\n",
      "- Accessing profile: https://www.linkedin.com/in/jamel-adouni-676018117?miniProfileUrn=urn%3Ali%3Afs_miniProfile%3AACoAAB0DOroBAwgMGtNwNszKe_Nn-OV-DpkXTso\n",
      "\n",
      "\n",
      "- Accessing profile: https://www.linkedin.com/in/ajroudi-ines-543a58156?miniProfileUrn=urn%3Ali%3Afs_miniProfile%3AACoAACWH5gMB3Nd0XtjGgzsbkQPQJGPsg2gBkS4\n",
      "\n",
      "\n",
      "- Accessing profile: https://www.linkedin.com/in/oussama-saad-b78337162?miniProfileUrn=urn%3Ali%3Afs_miniProfile%3AACoAACbZLMwBYmIVdDrzESX982DkLGm-xpRSXNY\n",
      "\n",
      "\n",
      "- Accessing profile: https://www.linkedin.com/in/maram-elyamine-245243199?miniProfileUrn=urn%3Ali%3Afs_miniProfile%3AACoAAC58wZUBSsgdZEnKSy-3oUdkvAtJz0n4pbc\n",
      "\n",
      "\n",
      "- Accessing profile: https://www.linkedin.com/in/jawhar-jarboui-b70a33178?miniProfileUrn=urn%3Ali%3Afs_miniProfile%3AACoAAConxcQBzXWN2U9jNU2bXv-omy3uRSh7WGQ\n",
      "\n",
      "\n",
      "- Accessing profile: https://www.linkedin.com/in/noamene-ben-jomaa-7b16371a7?miniProfileUrn=urn%3Ali%3Afs_miniProfile%3AACoAADBTXrUBcVqmcW7iyVBVPYx0qmZCYnY7cWE\n",
      "\n",
      "\n",
      "- Accessing profile: https://www.linkedin.com/in/omri-fedia-a335a8170?miniProfileUrn=urn%3Ali%3Afs_miniProfile%3AACoAACiqoccBsf5JtJaKoFPu4fAEkD5xiAr6vdo\n",
      "\n",
      "\n",
      "- Accessing profile: https://www.linkedin.com/in/dhouha-tlig-9059a8126?miniProfileUrn=urn%3Ali%3Afs_miniProfile%3AACoAAB8dcRUBNPpbtOKx1L1ebxF4x5zH2-3TK6A\n",
      "\n",
      "\n",
      "- Accessing profile: https://www.linkedin.com/in/hazbri-nidhal-465a871ba?miniProfileUrn=urn%3Ali%3Afs_miniProfile%3AACoAADMPkc0BsoTB22OIcl7cwlAXo8NatySUHts\n",
      "\n",
      "\n",
      "- Accessing profile: https://www.linkedin.com/in/souhir?miniProfileUrn=urn%3Ali%3Afs_miniProfile%3AACoAAADgNHIBeHUm9BvhzWAlmaXh4FL_4q-IfTU\n",
      "\n",
      "\n",
      "- Accessing profile: https://www.linkedin.com/in/houdalazghab?miniProfileUrn=urn%3Ali%3Afs_miniProfile%3AACoAABfwZzUBohtwZhmpeaOyIUU-eMBje7Ax2VM\n",
      "\n",
      "\n",
      "- Accessing profile: https://www.linkedin.com/in/rajaa-ben-khedher-31b640135?miniProfileUrn=urn%3Ali%3Afs_miniProfile%3AACoAACEFHccBQvg5JJsdHH8R1EBXIKlc_IrNDvc\n",
      "\n",
      "\n",
      "- Accessing profile: https://www.linkedin.com/in/anis-rouissi-153786129?miniProfileUrn=urn%3Ali%3Afs_miniProfile%3AACoAAB-d1U8BQ2LMcj5mn12TfEZ1ird8RSmR3Z4\n",
      "\n",
      "\n",
      "- Accessing profile: https://www.linkedin.com/in/lamjed-kacha-lachheb-b847a2205?miniProfileUrn=urn%3Ali%3Afs_miniProfile%3AACoAADRDohQBLGzTi2r4pxBo32288FYtr5VhZ0c\n",
      "\n",
      "\n",
      "- Accessing profile: https://www.linkedin.com/in/mohamed-el-ayari-5bb162115?miniProfileUrn=urn%3Ali%3Afs_miniProfile%3AACoAABytUt8BJYUilBtUcZ2NzPwvWC-8BnO0upk\n",
      "\n",
      "\n",
      "- Accessing profile: https://www.linkedin.com/in/oumeima-harzallah-858b2b1b9?miniProfileUrn=urn%3Ali%3Afs_miniProfile%3AACoAADLkBQQBcPegL0mUy8kZjvGgmAwQ9EsMSV4\n",
      "\n",
      "\n",
      "- Accessing profile: https://www.linkedin.com/in/mahmoud-fekih-ahmed-3b222211?miniProfileUrn=urn%3Ali%3Afs_miniProfile%3AACoAAAJYmbYBUwwLUSBFMrI00l7foLKxBK0Wk0M\n",
      "\n",
      "\n",
      "- Accessing profile: https://www.linkedin.com/in/alaeddine-ben-salem-56327a189?miniProfileUrn=urn%3Ali%3Afs_miniProfile%3AACoAACxbJZsBw4Pya4bzpKpsJAflFB7fbEZ-6KQ\n",
      "\n",
      "\n",
      "- Accessing profile: https://www.linkedin.com/in/mariam-smaoui-611778169?miniProfileUrn=urn%3Ali%3Afs_miniProfile%3AACoAACgolG0BRE84IFAc58iMD1KMlkXcCOVjc54\n",
      "\n",
      "\n",
      "- Accessing profile: https://www.linkedin.com/in/hasnaoui-hiba-226239184?miniProfileUrn=urn%3Ali%3Afs_miniProfile%3AACoAACt2CP4BZNxB97N0lOEW0-FgeddHPYRF2pc\n",
      "\n",
      "\n",
      "- Accessing profile: https://www.linkedin.com/in/wajdi-wesleti-a7ab90164?miniProfileUrn=urn%3Ali%3Afs_miniProfile%3AACoAACdUYv4BhlokIm52BQL7mVBIGrJ6jO99xbU\n",
      "\n",
      "\n",
      "- Accessing profile: https://www.linkedin.com/in/ben-othmen-fehmi-37b25b85?miniProfileUrn=urn%3Ali%3Afs_miniProfile%3AACoAABIDSU8Bb4HC_fdhhSFLepopDRX8zWXcCCA\n",
      "\n",
      "\n",
      "- Accessing profile: https://www.linkedin.com/in/abdessalem-b-9aa45b164?miniProfileUrn=urn%3Ali%3Afs_miniProfile%3AACoAACc41NIB_1Ekobp-2geagVPS_vdHNwgiLxY\n",
      "\n",
      "\n",
      "- Accessing profile: https://www.linkedin.com/in/laoun-mostafa-nadir-b76246114?miniProfileUrn=urn%3Ali%3Afs_miniProfile%3AACoAAByDCwoBgaj2D4FN-2h5_Gjxvo8Bk6WzoBQ\n",
      "\n",
      "\n",
      "- Accessing profile: https://www.linkedin.com/in/arifi-thameur-530a54131?miniProfileUrn=urn%3Ali%3Afs_miniProfile%3AACoAACBeevQBrVEdgr803ASs7r6r4FtEz9diCY0\n",
      "\n",
      "\n",
      "- Accessing profile: https://www.linkedin.com/in/kamel-bouallegui-57555973?miniProfileUrn=urn%3Ali%3Afs_miniProfile%3AACoAAA-QwOkB4iBM1qQVW30LRDqOUYJRcTiAg_c\n",
      "\n",
      "\n",
      "- Accessing profile: https://www.linkedin.com/in/nasserkhaled?miniProfileUrn=urn%3Ali%3Afs_miniProfile%3AACoAAAG-gyEB2cWEyk7HydjUgBnQBFBHJi4GtRY\n",
      "\n",
      "\n",
      "- Accessing profile: https://www.linkedin.com/in/rakia-abdi-89269751?miniProfileUrn=urn%3Ali%3Afs_miniProfile%3AACoAAAr1JS4Bef8VvEbf7n3To_JNXd5d-xPU9qg\n",
      "\n",
      "\n",
      "- Accessing profile: https://www.linkedin.com/in/rania-fliss-280a1258?miniProfileUrn=urn%3Ali%3Afs_miniProfile%3AACoAAAxAmAABuA1giMc_MANeYymi05jBoHCd8UU\n",
      "\n",
      "\n",
      "- Accessing profile: https://www.linkedin.com/in/fedi-ayouni-b3375017b?miniProfileUrn=urn%3Ali%3Afs_miniProfile%3AACoAACqln1cBlRxKT3A4vkvgJYF2BXRON7HnpeM\n",
      "\n",
      "\n",
      "- Accessing profile: https://www.linkedin.com/in/youssef-shili-3258a8135?miniProfileUrn=urn%3Ali%3Afs_miniProfile%3AACoAACEO0c0BgHTsY9dmGHaMz6A9KhNHzFbOEig\n",
      "\n",
      "\n",
      "- Accessing profile: https://www.linkedin.com/in/kamel-abdelkader-091a4a4a?miniProfileUrn=urn%3Ali%3Afs_miniProfile%3AACoAAAp6H-0BN9-hR8UpNA5TcZ_TX4Bq7-lHe68\n",
      "\n",
      "\n",
      "Mission Completed!\n"
     ]
    }
   ],
   "source": [
    "    scrape_all_profiles_to_csv(filtered_URLs)"
   ]
  },
  {
   "cell_type": "code",
   "execution_count": null,
   "id": "d7f67c6f",
   "metadata": {},
   "outputs": [],
   "source": []
  }
 ],
 "metadata": {
  "kernelspec": {
   "display_name": "Python 3 (ipykernel)",
   "language": "python",
   "name": "python3"
  },
  "language_info": {
   "codemirror_mode": {
    "name": "ipython",
    "version": 3
   },
   "file_extension": ".py",
   "mimetype": "text/x-python",
   "name": "python",
   "nbconvert_exporter": "python",
   "pygments_lexer": "ipython3",
   "version": "3.10.2"
  }
 },
 "nbformat": 4,
 "nbformat_minor": 5
}
